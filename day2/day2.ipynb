{
 "cells": [
  {
   "cell_type": "markdown",
   "metadata": {},
   "source": [
    "# Day 2\n",
    "\n",
    "The unusual data (your puzzle input) consists of many reports, one report per line. Each report is a list of numbers called levels that are separated by spaces. For example:\n",
    "```\n",
    "7 6 4 2 1\n",
    "1 2 7 8 9\n",
    "9 7 6 2 1\n",
    "1 3 2 4 5\n",
    "8 6 4 4 1\n",
    "1 3 6 7 9\n",
    "```\n",
    "This example data contains six reports each containing five levels.\n",
    "\n",
    "To be safe:\n",
    "- The levels are either all increasing or all decreasing.\n",
    "- Any two adjacent levels differ by at least one and at most three."
   ]
  },
  {
   "cell_type": "code",
   "execution_count": 211,
   "metadata": {},
   "outputs": [],
   "source": [
    "with open('day2_input.txt', 'r') as file:\n",
    "    data = file.readlines()\n",
    "\n",
    "clean_input = []\n",
    "for line in data:\n",
    "    line = [int(x) for x in line.replace(\"\\n\", \"\").split(\" \")]\n",
    "\n",
    "    clean_input.append(line)\n",
    "    \n",
    "# clean_input"
   ]
  },
  {
   "cell_type": "code",
   "execution_count": 212,
   "metadata": {},
   "outputs": [
    {
     "data": {
      "text/plain": [
       "[[7, 6, 4, 2, 1],\n",
       " [1, 2, 7, 8, 9],\n",
       " [9, 7, 6, 2, 1],\n",
       " [1, 3, 2, 4, 5],\n",
       " [8, 6, 4, 4, 1],\n",
       " [1, 3, 6, 7, 9]]"
      ]
     },
     "execution_count": 212,
     "metadata": {},
     "output_type": "execute_result"
    }
   ],
   "source": [
    "with open('day2_demo_input.txt', 'r') as file:\n",
    "    data = file.readlines()\n",
    "\n",
    "test_input = []\n",
    "for line in data:\n",
    "    line = [int(x) for x in line.replace(\"\\n\", \"\").split(\" \")]\n",
    "\n",
    "    test_input.append(line)\n",
    "    \n",
    "test_input"
   ]
  },
  {
   "cell_type": "code",
   "execution_count": 213,
   "metadata": {},
   "outputs": [
    {
     "data": {
      "text/plain": [
       "369"
      ]
     },
     "execution_count": 213,
     "metadata": {},
     "output_type": "execute_result"
    }
   ],
   "source": [
    "\n",
    "\n",
    "def line_checker(input):\n",
    "    safe = 0\n",
    "    unsafe_list = [0 for x in input]\n",
    "    for x, line in enumerate(input):        \n",
    "        # print(line)\n",
    "        flag = \"\"\n",
    "        for i, el in enumerate(line):\n",
    "            \n",
    "            if i == 0: # Escape the boundary case\n",
    "                continue\n",
    "            \n",
    "            if abs(el - line[i-1]) > 3:\n",
    "                unsafe_list[x] = 1\n",
    "                break\n",
    "            elif el == line[i-1]:\n",
    "                unsafe_list[x] = 1                \n",
    "                break\n",
    "            elif el > line[i-1]:\n",
    "                if flag == \"Decreasing\":\n",
    "                    unsafe_list[x] = 1\n",
    "                    break\n",
    "                else:\n",
    "                    flag = \"Increasing\"\n",
    "                    safe += 1\n",
    "            elif el < line[i-1]:\n",
    "                if flag == \"Increasing\":\n",
    "                    unsafe_list[x] = 1\n",
    "                    break\n",
    "                else:\n",
    "                    flag = \"Decreasing\"\n",
    "                    safe += 1\n",
    "            else:\n",
    "                safe += 1\n",
    "            \n",
    "    return unsafe_list\n",
    "\n",
    "    \n",
    "len(clean_input) - sum(line_checker(clean_input))\n"
   ]
  },
  {
   "cell_type": "markdown",
   "metadata": {},
   "source": [
    "# Challenge 2a"
   ]
  },
  {
   "cell_type": "code",
   "execution_count": 214,
   "metadata": {},
   "outputs": [
    {
     "data": {
      "text/plain": [
       "428"
      ]
     },
     "execution_count": 214,
     "metadata": {},
     "output_type": "execute_result"
    }
   ],
   "source": [
    "import copy\n",
    "\n",
    "\n",
    "def single_line_checker(line):\n",
    "    flag = \"\"\n",
    "    for i, el in enumerate(line):\n",
    "        if i == 0: # Escape the boundary case\n",
    "            continue\n",
    "        if abs(el - line[i-1]) > 3:\n",
    "            return False\n",
    "        elif el == line[i-1]:\n",
    "            return False               \n",
    "        elif el > line[i-1]:\n",
    "            if flag == \"Decreasing\":\n",
    "                return False\n",
    "            else:\n",
    "                flag = \"Increasing\"\n",
    "        elif el < line[i-1]:\n",
    "            if flag == \"Increasing\":\n",
    "                return False\n",
    "            else:\n",
    "                flag = \"Decreasing\"\n",
    "        \n",
    "    return True\n",
    "\n",
    "def damped_line_checker(line):\n",
    "    if single_line_checker(line):\n",
    "        return True\n",
    "    else:\n",
    "        for i in range(len(line)):\n",
    "            mod_line = copy.deepcopy(line)\n",
    "            mod_line.pop(i)\n",
    "            if single_line_checker(mod_line):\n",
    "                return True\n",
    "    return False\n",
    "\n",
    "clean = 0\n",
    "for line in clean_input:\n",
    "    if damped_line_checker(line):\n",
    "        clean += 1\n",
    "\n",
    "clean"
   ]
  }
 ],
 "metadata": {
  "kernelspec": {
   "display_name": "climate_hackathon",
   "language": "python",
   "name": "python3"
  },
  "language_info": {
   "codemirror_mode": {
    "name": "ipython",
    "version": 3
   },
   "file_extension": ".py",
   "mimetype": "text/x-python",
   "name": "python",
   "nbconvert_exporter": "python",
   "pygments_lexer": "ipython3",
   "version": "3.13.0"
  }
 },
 "nbformat": 4,
 "nbformat_minor": 2
}
